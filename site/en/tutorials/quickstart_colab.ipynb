{
  "cells": [
    {
      "cell_type": "code",
      "source": [
        "import random\n",
        "import time\n",
        "from IPython.display import display, clear_output\n",
        "\n",
        "# Banco de dados de perguntas e respostas\n",
        "perguntas_db = [\n",
        "    {\n",
        "        \"pergunta\": \"Qual é o único mamífero capaz de voar ativamente?\",\n",
        "        \"opcoes\": [\"Esquilo-voador\", \"Morcego\", \"Águia\"],\n",
        "        \"resposta\": \"Morcego\"\n",
        "    },\n",
        "    {\n",
        "        \"pergunta\": \"Se você dobrar uma folha de papel 42 vezes, qual seria sua altura?\",\n",
        "        \"opcoes\": [\"Altura do Monte Everest\", \"Altura de um prédio de 100 andares\", \"Altura de uma girafa\"],\n",
        "        \"resposta\": \"Altura do Monte Everest\"\n",
        "    },\n",
        "    {\n",
        "        \"pergunta\": \"O que acontece se você misturar vermelho e azul?\",\n",
        "        \"opcoes\": [\"Verde\", \"Roxo\", \"Laranja\"],\n",
        "        \"resposta\": \"Roxo\"\n",
        "    },\n",
        "    {\n",
        "        \"pergunta\": \"Qual é a capital da França?\",\n",
        "        \"opcoes\": [\"Paris\", \"Londres\", \"Berlim\"],\n",
        "        \"resposta\": \"Paris\"\n",
        "    },\n",
        "    {\n",
        "        \"pergunta\": \"Quantos planetas existem no sistema solar?\",\n",
        "        \"opcoes\": [\"7\", \"8\", \"9\"],\n",
        "        \"resposta\": \"8\"\n",
        "    }\n",
        "]\n",
        "\n",
        "# Função para exibir uma pergunta com um timer\n",
        "import random\n",
        "import time\n",
        "from IPython.display import display, clear_output\n",
        "\n",
        "# Banco de dados de perguntas e respostas\n",
        "perguntas_db = [\n",
        "    {\n",
        "        \"pergunta\": \"Qual é o único mamífero capaz de voar ativamente?\",\n",
        "        \"opcoes\": [\"Esquilo-voador\", \"Morcego\", \"Águia\"],\n",
        "        \"resposta\": \"Morcego\"\n",
        "    },\n",
        "    {\n",
        "        \"pergunta\": \"Se você dobrar uma folha de papel 42 vezes, qual seria sua altura?\",\n",
        "        \"opcoes\": [\"Altura do Monte Everest\", \"Altura de um prédio de 100 andares\", \"Altura de uma girafa\"],\n",
        "        \"resposta\": \"Altura do Monte Everest\"\n",
        "    },\n",
        "    {\n",
        "        \"pergunta\": \"O que acontece se você misturar vermelho e azul?\",\n",
        "        \"opcoes\": [\"Verde\", \"Roxo\", \"Laranja\"],\n",
        "        \"resposta\": \"Roxo\"\n",
        "    },\n",
        "    {\n",
        "        \"pergunta\": \"Qual é a capital da França?\",\n",
        "        \"opcoes\": [\"Paris\", \"Londres\", \"Berlim\"],\n",
        "        \"resposta\": \"Paris\"\n",
        "    },\n",
        "    {\n",
        "        \"pergunta\": \"Quantos planetas existem no sistema solar?\",\n",
        "        \"opcoes\": [\"7\", \"8\", \"9\"],\n",
        "        \"resposta\": \"8\"\n",
        "    }\n",
        "]\n",
        "\n",
        "# Função para exibir uma pergunta com um timer\n",
        "def exibir_pergunta(pergunta):\n",
        "    clear_output(wait=True)  # Limpa a tela antes de mostrar a pergunta\n",
        "    print(f\"Pergunta: {pergunta['pergunta']}\")\n",
        "    for i, opcao in enumerate(pergunta['opcoes']):\n",
        "        print(f\"{i+1}. {opcao}\")\n",
        "\n",
        "    # ... (rest of the function)"
      ],
      "metadata": {
        "id": "Fb5GTDFl-L0y"
      },
      "execution_count": 28,
      "outputs": []
    },
    {
      "source": [
        "import random\n",
        "import time\n",
        "from IPython.display import display, clear_output"
      ],
      "cell_type": "code",
      "metadata": {
        "id": "ZgyRWZsR_Cwa"
      },
      "execution_count": 29,
      "outputs": []
    }
  ],
  "metadata": {
    "colab": {
      "name": "quickstart_colab.ipynb",
      "toc_visible": true,
      "provenance": []
    },
    "kernelspec": {
      "display_name": "Python 3",
      "name": "python3"
    }
  },
  "nbformat": 4,
  "nbformat_minor": 0
}